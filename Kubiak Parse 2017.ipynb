{
 "cells": [
  {
   "cell_type": "code",
   "execution_count": 1,
   "metadata": {
    "collapsed": true
   },
   "outputs": [],
   "source": [
    "import pandas as pd\n",
    "import math\n",
    "import numpy\n",
    "from matplotlib.pyplot import *"
   ]
  },
  {
   "cell_type": "code",
   "execution_count": 81,
   "metadata": {
    "collapsed": false
   },
   "outputs": [],
   "source": [
    "class KubiakParse:\n",
    "    def __init__(self,Kfilename='2017 KUBIAK 20170813.csv',Yfilename='YahooAuctionValues2017CSV.csv'):\n",
    "        self.Kvalues = pd.read_csv(Kfilename, sep=',',header=None).values\n",
    "        self.Yvalues = pd.read_csv(Yfilename, sep=',',header=None).values\n",
    "        self.Kheader = list(self.Kvalues[0])\n",
    "        self.KplayerRecordIndex = self.Kheader.index('Player')\n",
    "        self.yahooparse()\n",
    "        self.sepperateNameAndPos()\n",
    "        self.matchRecords()\n",
    "        self.writeAnswers()\n",
    "        \n",
    "    def yahooparse(self):\n",
    "        self.YnameAndpos = []\n",
    "        self.YprojVal = []\n",
    "        self.YauctionVal = []\n",
    "        for iValue,row in enumerate(self.Yvalues):\n",
    "            if row[0][0] =='$' and self.Yvalues[iValue+1][0][0] == '$':\n",
    "                self.YprojVal.append(int(row[0][1:len(row[0])]))\n",
    "                if '-' in self.Yvalues[iValue+1][0]:\n",
    "                    self.YauctionVal.append(0.)\n",
    "                else:\n",
    "                    self.YauctionVal.append(float(self.Yvalues[iValue+1][0][1:len(self.Yvalues[iValue+1][0])]))\n",
    "                if '-' in self.Yvalues[iValue-3][0] and not(self.Yvalues[iValue-3][0] == 'PUP-P'):\n",
    "                    self.YnameAndpos.append(str(self.Yvalues[iValue-3][0]))\n",
    "                elif '-' in self.Yvalues[iValue-4][0] :\n",
    "                    self.YnameAndpos.append(str(self.Yvalues[iValue-4][0]))\n",
    "                else:\n",
    "                    raise Excpetion('Yahoo format unexpected')\n",
    "        return\n",
    "    \n",
    "    def sepperateNameAndPos(self):\n",
    "        self.Yname = []\n",
    "        self.Yteam = []\n",
    "        self.Ypos = []\n",
    "        self.Yauc = []\n",
    "        for Yindex,record in enumerate(self.YnameAndpos):\n",
    "            for index,char in enumerate(record):\n",
    "                if char == '-':\n",
    "                    self.Ypos.append(record[(index+2):(len(record))])\n",
    "                    TempYnameAndTeam = record[0:(index-1)]\n",
    "                    for n in range(len(TempYnameAndTeam )):\n",
    "                        if TempYnameAndTeam[len(TempYnameAndTeam )-n-1] == ' ':\n",
    "                            lastspaceindex = len(TempYnameAndTeam )-n-1\n",
    "                            break\n",
    "                    \n",
    "                    self.Yteam.append(TempYnameAndTeam[(lastspaceindex+1):(len(TempYnameAndTeam)+1)])\n",
    "                    self.Yname.append(TempYnameAndTeam[0:lastspaceindex])\n",
    "                    self.Yauc.append(self.YprojVal[Yindex])\n",
    "        return\n",
    "    \n",
    "    def removePeriod(self,name):\n",
    "        if ('.' in name) and (name.index('.') == (len(name)-1)):\n",
    "            nameOut = name[0:(len(name)-4)]\n",
    "        else:\n",
    "            nameOut = name\n",
    "        return nameOut\n",
    "                \n",
    "                    \n",
    "    def matchRecords(self):\n",
    "        KplayerRecordIndex = self.Kheader.index('Player')\n",
    "        self.notMatchedlist = []\n",
    "        self.notMatchedYindex = []\n",
    "        self.MatchedIndexY = []\n",
    "        self.MatchedIndexK = []\n",
    "        for Yindex,Yname in enumerate(self.Yname):\n",
    "            Yname = self.removePeriod(Yname)\n",
    "            recordFound = False\n",
    "            for Kindex,Kline in enumerate(self.Kvalues):\n",
    "                Kname = Kline[self.KplayerRecordIndex]\n",
    "                if Kname == Yname:\n",
    "                    self.MatchedIndexK.append(Kindex)\n",
    "                    self.MatchedIndexY.append(Yindex)\n",
    "                    recordFound = True\n",
    "            if not(recordFound):\n",
    "                self.notMatchedYindex.append(Yindex)\n",
    "                self.notMatchedlist.append(Yname)\n",
    "        return\n",
    "    \n",
    "                    \n",
    "    def writeAnswers(self):\n",
    "        target = open('DraftAnswers.csv', 'w')\n",
    "        target.write('Name , POS , Team , Kauc , KubiakVal , YahooVal , KubiakAdj , %Profit')\n",
    "        target.write('\\n') \n",
    "        \n",
    "        for index,Yindex in enumerate(self.MatchedIndexY):\n",
    "\n",
    "            target.write(self.Kvalues[self.MatchedIndexK[index],KP.Kheader.index('Player')])\n",
    "            \n",
    "            target.write(',')\n",
    "            target.write(self.Kvalues[self.MatchedIndexK[index], KP.Kheader.index('POS')])\n",
    "            \n",
    "            target.write(',')\n",
    "            target.write(self.Kvalues[self.MatchedIndexK[index],KP.Kheader.index('Team')])\n",
    "            \n",
    "            target.write(',')\n",
    "            target.write(self.Kvalues[self.MatchedIndexK[index],KP.Kheader.index('Auction Value')])\n",
    "            \n",
    "\n",
    "            target.write(',')\n",
    "            target.write(self.Kvalues[self.MatchedIndexK[index],KP.Kheader.index('FPoints Over Baseline')])\n",
    "            \n",
    "            target.write(',')\n",
    "            target.write(str(self.Yauc[Yindex]))\n",
    "\n",
    "#            self.MatchedIndexK\n",
    "#            target.write(',')\n",
    "#            target.write(KubiakValues[KubiakNameIndex[index]][1])\n",
    "#            target.write(',')\n",
    "#            KaucStr = str(KubiakAuctionValue[KubiakNameIndex[index]])\n",
    "#            target.write(KaucStr)\n",
    "#            target.write(',')    \n",
    "#            FPOBstring = str(FPOBvals[index])\n",
    "#            target.write(FPOBstring)\n",
    "#            target.write(',')\n",
    "#            YauctionString = str(Yvals[index])\n",
    "#            target.write(YauctionString) \n",
    "#            target.write(',')\n",
    "#            FPOBvalsCorrectedString = str(FPOBvalsCorrected[index])\n",
    "#            target.write(FPOBvalsCorrectedString)\n",
    "#            target.write(',')\n",
    "#            PercentProfitString = str((FPOBvalsCorrected[index]-Yvals[index])*100/(FPOBvalsCorrected[index]+.01))\n",
    "#            target.write(PercentProfitString)    \n",
    "            target.write('\\n')\n",
    "            \n",
    "            \n",
    "KP = KubiakParse()"
   ]
  },
  {
   "cell_type": "code",
   "execution_count": 78,
   "metadata": {
    "collapsed": false
   },
   "outputs": [
    {
     "name": "stdout",
     "output_type": "stream",
     "text": [
      "281\n",
      "353\n",
      "350\n",
      "350\n",
      "350\n"
     ]
    }
   ],
   "source": [
    "print(len(KP.MatchedIndexY))\n",
    "print(len(KP.Yname))\n",
    "print(len(KP.YauctionVal))\n",
    "print(len(KP.YnameAndpos ))\n",
    "print(len(KP.YauctionVal))"
   ]
  },
  {
   "cell_type": "code",
   "execution_count": 79,
   "metadata": {
    "collapsed": false
   },
   "outputs": [
    {
     "name": "stdout",
     "output_type": "stream",
     "text": [
      "352\n"
     ]
    }
   ],
   "source": [
    "print(max(KP.MatchedIndexY))"
   ]
  },
  {
   "cell_type": "code",
   "execution_count": 56,
   "metadata": {
    "collapsed": false
   },
   "outputs": [
    {
     "data": {
      "text/plain": [
       "['Ladarius Green',\n",
       " 'Denver',\n",
       " 'Seattle',\n",
       " 'Houston',\n",
       " 'Kansas City',\n",
       " 'Will Fuller V',\n",
       " 'Arizona',\n",
       " 'Minnesota',\n",
       " 'New England',\n",
       " 'Carolina',\n",
       " 'Los Angeles',\n",
       " 'Baltimore',\n",
       " 'New York',\n",
       " 'Pittsburgh',\n",
       " 'Oakland',\n",
       " 'New York',\n",
       " 'Josh Gordon',\n",
       " 'Tony Romo',\n",
       " 'Green Bay',\n",
       " 'Jacksonville',\n",
       " 'Cincinnati',\n",
       " 'Cody Kessler',\n",
       " 'Atlanta',\n",
       " 'Tennessee',\n",
       " 'Dallas',\n",
       " 'Anquan Boldin',\n",
       " 'Buffalo',\n",
       " 'Paxton Lynch',\n",
       " 'Detroit',\n",
       " 'Philadelphia',\n",
       " 'Miami',\n",
       " 'Mike Nugent',\n",
       " 'Austin',\n",
       " 'Los Angeles',\n",
       " 'Lance Kendricks',\n",
       " 'DeAngelo Williams',\n",
       " 'Colin Kaepernick',\n",
       " 'Rashad Jennings',\n",
       " 'Gary Barnidge',\n",
       " 'Tampa Bay',\n",
       " 'Jacob Tamme',\n",
       " 'Christine Michael',\n",
       " 'Dennis Pitta',\n",
       " 'Eddie Royal',\n",
       " 'Washington',\n",
       " 'Nick Folk',\n",
       " 'Justin Forsett',\n",
       " 'Darrius',\n",
       " 'Blaine Gabbert',\n",
       " 'Richard Rodgers',\n",
       " 'Dion Sims',\n",
       " 'C.J. Uzomah',\n",
       " 'Indianapolis',\n",
       " 'Will Tye',\n",
       " 'Kerwynn Williams',\n",
       " 'Randy Bullock',\n",
       " 'Dan Carpenter',\n",
       " 'James Starks',\n",
       " 'Vincent Jackson',\n",
       " 'Justin Hunter',\n",
       " 'Seth DeValve',\n",
       " 'Dorial',\n",
       " 'Dorial Green-Beckham',\n",
       " 'Chicago',\n",
       " 'Darren Fells',\n",
       " 'Daniel Brown',\n",
       " 'Virgil Green',\n",
       " 'Matt Moore',\n",
       " 'Larry Donnell',\n",
       " 'Levine Toilolo']"
      ]
     },
     "execution_count": 56,
     "metadata": {},
     "output_type": "execute_result"
    }
   ],
   "source": [
    "KP.notMatchedlist"
   ]
  },
  {
   "cell_type": "code",
   "execution_count": 51,
   "metadata": {
    "collapsed": false
   },
   "outputs": [
    {
     "data": {
      "text/plain": [
       "['Odell Beckham Jr',\n",
       " 'Terrelle Pryor Sr',\n",
       " 'Ladarius Green',\n",
       " 'Marvin Jones Jr',\n",
       " 'Denver',\n",
       " 'Seattle',\n",
       " 'Houston',\n",
       " 'Duke Johnson Jr',\n",
       " 'Ted Ginn Jr',\n",
       " 'Kansas City',\n",
       " 'Will Fuller V',\n",
       " 'Arizona',\n",
       " 'Minnesota',\n",
       " 'New England',\n",
       " 'Carolina',\n",
       " 'Los Angeles',\n",
       " 'Baltimore',\n",
       " 'New York',\n",
       " 'Pittsburgh',\n",
       " 'Oakland',\n",
       " 'New York',\n",
       " 'Josh Gordon',\n",
       " 'Tony Romo',\n",
       " 'Green Bay',\n",
       " 'Jacksonville',\n",
       " 'Cincinnati',\n",
       " 'Cody Kessler',\n",
       " 'Atlanta',\n",
       " 'Tennessee',\n",
       " 'Dallas',\n",
       " 'Anquan Boldin',\n",
       " 'Buffalo',\n",
       " 'Paxton Lynch',\n",
       " 'Detroit',\n",
       " 'Philadelphia',\n",
       " 'Miami',\n",
       " 'Mike Nugent',\n",
       " 'Austin',\n",
       " 'Los Angeles',\n",
       " 'Lance Kendricks',\n",
       " 'DeAngelo Williams',\n",
       " 'Colin Kaepernick',\n",
       " 'Rashad Jennings',\n",
       " 'Gary Barnidge',\n",
       " 'Tampa Bay',\n",
       " 'Jacob Tamme',\n",
       " 'Christine Michael',\n",
       " 'Dennis Pitta',\n",
       " 'Eddie Royal',\n",
       " 'Washington',\n",
       " 'Nick Folk',\n",
       " 'Justin Forsett',\n",
       " 'Darrius',\n",
       " 'Blaine Gabbert',\n",
       " 'Richard Rodgers',\n",
       " 'Dion Sims',\n",
       " 'C.J. Uzomah',\n",
       " 'Indianapolis',\n",
       " 'Will Tye',\n",
       " 'Kerwynn Williams',\n",
       " 'Randy Bullock',\n",
       " 'Dan Carpenter',\n",
       " 'James Starks',\n",
       " 'Vincent Jackson',\n",
       " 'Justin Hunter',\n",
       " 'Seth DeValve',\n",
       " 'Dorial',\n",
       " 'Dorial Green-Beckham',\n",
       " 'Chicago',\n",
       " 'Darren Fells',\n",
       " 'Daniel Brown',\n",
       " 'Virgil Green',\n",
       " 'Matt Moore',\n",
       " 'Larry Donnell',\n",
       " 'Levine Toilolo']"
      ]
     },
     "execution_count": 51,
     "metadata": {},
     "output_type": "execute_result"
    }
   ],
   "source": [
    "KP.notMatchedlist"
   ]
  },
  {
   "cell_type": "code",
   "execution_count": 5,
   "metadata": {
    "collapsed": false
   },
   "outputs": [
    {
     "data": {
      "text/plain": [
       "['Kheader',\n",
       " 'Kvalues',\n",
       " 'YauctionVal',\n",
       " 'YnameAndpos',\n",
       " 'YprojVal',\n",
       " 'Yvalues',\n",
       " '__class__',\n",
       " '__delattr__',\n",
       " '__dict__',\n",
       " '__dir__',\n",
       " '__doc__',\n",
       " '__eq__',\n",
       " '__format__',\n",
       " '__ge__',\n",
       " '__getattribute__',\n",
       " '__gt__',\n",
       " '__hash__',\n",
       " '__init__',\n",
       " '__le__',\n",
       " '__lt__',\n",
       " '__module__',\n",
       " '__ne__',\n",
       " '__new__',\n",
       " '__reduce__',\n",
       " '__reduce_ex__',\n",
       " '__repr__',\n",
       " '__setattr__',\n",
       " '__sizeof__',\n",
       " '__str__',\n",
       " '__subclasshook__',\n",
       " '__weakref__',\n",
       " 'yahooparse']"
      ]
     },
     "execution_count": 5,
     "metadata": {},
     "output_type": "execute_result"
    }
   ],
   "source": [
    "dir(KP)"
   ]
  },
  {
   "cell_type": "code",
   "execution_count": 7,
   "metadata": {
    "collapsed": false
   },
   "outputs": [
    {
     "data": {
      "text/plain": [
       "0"
      ]
     },
     "execution_count": 7,
     "metadata": {},
     "output_type": "execute_result"
    }
   ],
   "source": [
    "KP.Kheader.index('Player')"
   ]
  },
  {
   "cell_type": "code",
   "execution_count": null,
   "metadata": {
    "collapsed": true
   },
   "outputs": [],
   "source": []
  },
  {
   "cell_type": "code",
   "execution_count": null,
   "metadata": {
    "collapsed": true
   },
   "outputs": [],
   "source": [
    "target = open('DraftAnswers.csv', 'w')\n",
    "target.write('Name , POS , Team , Kauc , KubiakVal , YahooVal , KubiakAdj , %Profit')\n",
    "target.write('\\n')\n",
    "\n",
    "\n",
    "for index,nameVal in enumerate(CommonPlayerNames):\n",
    "    target.write(nameVal)\n",
    "    target.write(',')\n",
    "    target.write(KubiakValues[KubiakNameIndex[index]][3])\n",
    "    target.write(',')\n",
    "    target.write(KubiakValues[KubiakNameIndex[index]][1])\n",
    "    target.write(',')\n",
    "    KaucStr = str(KubiakAuctionValue[KubiakNameIndex[index]])\n",
    "    target.write(KaucStr)\n",
    "    target.write(',')    \n",
    "    FPOBstring = str(FPOBvals[index])\n",
    "    target.write(FPOBstring)\n",
    "    target.write(',')\n",
    "    YauctionString = str(Yvals[index])\n",
    "    target.write(YauctionString) \n",
    "    target.write(',')\n",
    "    FPOBvalsCorrectedString = str(FPOBvalsCorrected[index])\n",
    "    target.write(FPOBvalsCorrectedString)\n",
    "    target.write(',')\n",
    "    PercentProfitString = str((FPOBvalsCorrected[index]-Yvals[index])*100/(FPOBvalsCorrected[index]+.01))\n",
    "    target.write(PercentProfitString)    \n",
    "    target.write('\\n')\n",
    "            \n",
    "target.close()"
   ]
  },
  {
   "cell_type": "code",
   "execution_count": null,
   "metadata": {
    "collapsed": false
   },
   "outputs": [],
   "source": [
    "KP = KubiakParse()"
   ]
  },
  {
   "cell_type": "code",
   "execution_count": null,
   "metadata": {
    "collapsed": false
   },
   "outputs": [],
   "source": [
    "dir(KP)"
   ]
  },
  {
   "cell_type": "code",
   "execution_count": null,
   "metadata": {
    "collapsed": false
   },
   "outputs": [],
   "source": [
    "nameAndpos = []\n",
    "for iValue,row in enumerate(KP.Yvalues):\n",
    "    if row[0][0] =='$' and KP.Yvalues[iValue+1][0][0] == '$':\n",
    "        if KP.Yvalues[iValue-3][0] in { 'Questionable','PUP-P','Suspended','Inactive','IR'}:\n",
    "            nameAndpos.append(KP.Yvalues[iValue-4])\n",
    "        else:\n",
    "            nameAndpos.append(KP.Yvalues[iValue-3])\n",
    "    "
   ]
  },
  {
   "cell_type": "code",
   "execution_count": null,
   "metadata": {
    "collapsed": true
   },
   "outputs": [],
   "source": [
    "            NoDash = True\n",
    "            for index2 , letterVal in enumerate(row[0]):\n",
    "                if letterVal=='-':\n",
    "                    NoDash = False\n",
    "                    if row[0][0]=='$':\n",
    "                        NoDash = True\n",
    "                    if row[0][index2-1]=='P':\n",
    "                NoDash = True\n",
    "\n",
    "if not(NoDash):\n",
    "        StringWithNameInIt = YahooAuctionValues[index][0]\n",
    "        LengthOfString = len(StringWithNameInIt)\n",
    "        LastThreeLetters = StringWithNameInIt[(LengthOfString-3):LengthOfString]\n",
    "        if LastThreeLetters == 'DEF':\n",
    "            CountNameAssign = CountNameAssign + 1\n",
    "            NameString = StringWithNameInIt[0:(LengthOfString-6)]\n",
    "            FirstLastPlayerNamesYahoo.append(NameString)\n",
    "        else:\n",
    "            SpaceNum=0\n",
    "            for index2, letterChar in enumerate(StringWithNameInIt):\n",
    "                if letterChar==' ':\n",
    "                    SpaceNum = SpaceNum+1\n",
    "                    if SpaceNum==2:\n",
    "                        NameString = StringWithNameInIt[0:index2]\n",
    "                        CountNameAssign = CountNameAssign + 1\n",
    "                        FirstLastPlayerNamesYahoo.append(NameString)\n",
    "                    \n",
    "        indexAdd = 0\n",
    "        LinesWithDollars = 0\n",
    "        while (LinesWithDollars<3 and (index+indexAdd+1)<len(YahooAuctionValues)):\n",
    "            indexAdd = indexAdd+1\n",
    "            if YahooAuctionValues[index+indexAdd][0][0]=='$':\n",
    "                LinesWithDollars = LinesWithDollars + 1\n",
    "                if LinesWithDollars == 1:\n",
    "                    CountValAssign = CountValAssign + 1\n",
    "                    YahooAuctionVal.append(float(YahooAuctionValues[index+indexAdd][0][1:(-1)]))\n",
    "                if LinesWithDollars == 2:\n",
    "                    if YahooAuctionValues[index+indexAdd][0][1]=='-':\n",
    "                        MockYahooAuctionVal.append(float(0))\n",
    "                    else:\n",
    "                        MockYahooAuctionVal.append(float(YahooAuctionValues[index+indexAdd][0][1:(-1)]))"
   ]
  },
  {
   "cell_type": "code",
   "execution_count": null,
   "metadata": {
    "collapsed": false
   },
   "outputs": [],
   "source": [
    "KP.Yvalues"
   ]
  },
  {
   "cell_type": "code",
   "execution_count": null,
   "metadata": {
    "collapsed": false
   },
   "outputs": [],
   "source": [
    "KubiakCSVread=pd.read_csv('2017KUBIAKCSV.csv', sep=',',header=None)\n",
    "#YahooAuctionread=pd.read_csv('YahooAuctionValuesCSV.csv', sep=',',header=None)\n",
    "\n",
    "KubiakValues = KubiakCSVread.values\n",
    "#YahooAuctionValues = YahooAuctionread.values"
   ]
  },
  {
   "cell_type": "code",
   "execution_count": null,
   "metadata": {
    "collapsed": true
   },
   "outputs": [],
   "source": [
    "KubiakDataHeader = list(KubiakValues[0])\n",
    "KubiakValues = KubiakValues[1:736]"
   ]
  },
  {
   "cell_type": "code",
   "execution_count": null,
   "metadata": {
    "collapsed": false
   },
   "outputs": [],
   "source": [
    "FPOBindex = KubiakDataHeader.index('FPoints Over Baseline')\n",
    "KAuctionindex = KubiakDataHeader.index('Auction Value')\n",
    "Riskindex = KubiakDataHeader.index('Risk')"
   ]
  },
  {
   "cell_type": "code",
   "execution_count": null,
   "metadata": {
    "collapsed": false
   },
   "outputs": [],
   "source": [
    "KubiakDataHeader "
   ]
  },
  {
   "cell_type": "code",
   "execution_count": null,
   "metadata": {
    "collapsed": false
   },
   "outputs": [],
   "source": [
    "FirstLastPlayerNamesKubiak = []\n",
    "KubiakAuctionValue = []\n",
    "KubiakFPoverBaseline = []\n",
    "\n",
    "for index,row in enumerate(KubiakValues ):\n",
    "    FirstLastPlayerNamesKubiak.append(KubiakValues[index,0])\n",
    "    KubiakAuctionValue.append(KubiakValues[index,KAuctionindex])\n",
    "    KubiakFPoverBaseline.append(float(KubiakValues[index,FPOBindex]))"
   ]
  },
  {
   "cell_type": "code",
   "execution_count": null,
   "metadata": {
    "collapsed": false
   },
   "outputs": [],
   "source": [
    "FirstLastPlayerNamesKubiak"
   ]
  },
  {
   "cell_type": "code",
   "execution_count": null,
   "metadata": {
    "collapsed": true
   },
   "outputs": [],
   "source": []
  },
  {
   "cell_type": "code",
   "execution_count": null,
   "metadata": {
    "collapsed": true
   },
   "outputs": [],
   "source": []
  }
 ],
 "metadata": {
  "anaconda-cloud": {},
  "kernelspec": {
   "display_name": "Python [Root]",
   "language": "python",
   "name": "Python [Root]"
  },
  "language_info": {
   "codemirror_mode": {
    "name": "ipython",
    "version": 3
   },
   "file_extension": ".py",
   "mimetype": "text/x-python",
   "name": "python",
   "nbconvert_exporter": "python",
   "pygments_lexer": "ipython3",
   "version": "3.5.2"
  }
 },
 "nbformat": 4,
 "nbformat_minor": 0
}
